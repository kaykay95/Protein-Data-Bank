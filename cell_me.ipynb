{
 "cells": [
  {
   "cell_type": "markdown",
   "metadata": {
    "collapsed": true
   },
   "source": [
    "# Cell Me\n",
    "\n",
    "Raport zawiera podsumowanie projektu \"Cell Me\". Jego celem jest predykcja oceny telefonu komórkowego bazując na recenzji napisanej przez użytkownika danego modelu. Model predykcji wykonany został z użyciem Pythona w oparciu o bibliotekę _scikit-learn_. Wyjście programu stanowi plik .csv zawierający ID recenzji oraz przewidzianą ocenę.\n",
    "\n",
    "\n",
    "### Zaimportowanie bibliotek\n",
    "Przed rozpoczęciem prac nad projektem należy załadować niezbędne biblioteki, między innymi _pandas_, _nltk_ oraz _scikit-learn_. "
   ]
  },
  {
   "cell_type": "code",
   "execution_count": 114,
   "metadata": {},
   "outputs": [],
   "source": [
    "import pandas as pd\n",
    "import numpy as np\n",
    "import nltk\n",
    "from nltk.corpus import stopwords\n",
    "from sklearn.feature_extraction.text import CountVectorizer\n",
    "from sklearn.naive_bayes import MultinomialNB\n",
    "import csv as csv"
   ]
  },
  {
   "cell_type": "markdown",
   "metadata": {},
   "source": [
    "### Załadowanie oraz obróbka danych\n",
    "Do zmiennych train_df oraz test_df zostały zapisane odpowiednio treningowy oraz testowy zbiór danych."
   ]
  },
  {
   "cell_type": "code",
   "execution_count": 4,
   "metadata": {},
   "outputs": [],
   "source": [
    "train_df = pd.read_csv(\"train.csv\", sep=\",\")\n",
    "test_df = pd.read_csv('test.csv', sep=\",\")"
   ]
  },
  {
   "cell_type": "markdown",
   "metadata": {},
   "source": [
    "Aby poznać rozmiary powyższych zbiorów danych użyto atrybutu shape, który jest krótką z informacją o ilości wierszy i kolumn."
   ]
  },
  {
   "cell_type": "code",
   "execution_count": 3,
   "metadata": {},
   "outputs": [
    {
     "name": "stdout",
     "output_type": "stream",
     "text": [
      "Rozmiar treningowego zbioru danych:  (202645, 6)\n",
      "Rozmiar testowego zbioru danych:  (211195, 5)\n"
     ]
    }
   ],
   "source": [
    "print('Rozmiar treningowego zbioru danych: ', train_df.shape) \n",
    "print('Rozmiar testowego zbioru danych: ', test_df.shape) "
   ]
  },
  {
   "cell_type": "markdown",
   "metadata": {},
   "source": [
    "Za pomocą funkcji head można dowiedzieć się jakie zmienne zawiera analizowany data frame."
   ]
  },
  {
   "cell_type": "code",
   "execution_count": 4,
   "metadata": {},
   "outputs": [
    {
     "data": {
      "text/html": [
       "<div>\n",
       "<style scoped>\n",
       "    .dataframe tbody tr th:only-of-type {\n",
       "        vertical-align: middle;\n",
       "    }\n",
       "\n",
       "    .dataframe tbody tr th {\n",
       "        vertical-align: top;\n",
       "    }\n",
       "\n",
       "    .dataframe thead th {\n",
       "        text-align: right;\n",
       "    }\n",
       "</style>\n",
       "<table border=\"1\" class=\"dataframe\">\n",
       "  <thead>\n",
       "    <tr style=\"text-align: right;\">\n",
       "      <th></th>\n",
       "      <th>Id</th>\n",
       "      <th>Product Name</th>\n",
       "      <th>Brand Name</th>\n",
       "      <th>Price</th>\n",
       "      <th>Reviews</th>\n",
       "      <th>Rating</th>\n",
       "    </tr>\n",
       "  </thead>\n",
       "  <tbody>\n",
       "    <tr>\n",
       "      <th>0</th>\n",
       "      <td>1</td>\n",
       "      <td>\"CLEAR CLEAN ESN\" Sprint EPIC 4G Galaxy SPH-D7...</td>\n",
       "      <td>Samsung</td>\n",
       "      <td>199.99</td>\n",
       "      <td>I feel so LUCKY to have found this used (phone...</td>\n",
       "      <td>5</td>\n",
       "    </tr>\n",
       "    <tr>\n",
       "      <th>1</th>\n",
       "      <td>2</td>\n",
       "      <td>\"CLEAR CLEAN ESN\" Sprint EPIC 4G Galaxy SPH-D7...</td>\n",
       "      <td>Samsung</td>\n",
       "      <td>199.99</td>\n",
       "      <td>nice phone, nice up grade from my pantach revu...</td>\n",
       "      <td>4</td>\n",
       "    </tr>\n",
       "    <tr>\n",
       "      <th>2</th>\n",
       "      <td>3</td>\n",
       "      <td>\"CLEAR CLEAN ESN\" Sprint EPIC 4G Galaxy SPH-D7...</td>\n",
       "      <td>Samsung</td>\n",
       "      <td>199.99</td>\n",
       "      <td>Very pleased</td>\n",
       "      <td>5</td>\n",
       "    </tr>\n",
       "    <tr>\n",
       "      <th>3</th>\n",
       "      <td>4</td>\n",
       "      <td>\"CLEAR CLEAN ESN\" Sprint EPIC 4G Galaxy SPH-D7...</td>\n",
       "      <td>Samsung</td>\n",
       "      <td>199.99</td>\n",
       "      <td>It works good but it goes slow sometimes but i...</td>\n",
       "      <td>4</td>\n",
       "    </tr>\n",
       "    <tr>\n",
       "      <th>4</th>\n",
       "      <td>5</td>\n",
       "      <td>\"CLEAR CLEAN ESN\" Sprint EPIC 4G Galaxy SPH-D7...</td>\n",
       "      <td>Samsung</td>\n",
       "      <td>199.99</td>\n",
       "      <td>Great phone to replace my lost phone. The only...</td>\n",
       "      <td>4</td>\n",
       "    </tr>\n",
       "  </tbody>\n",
       "</table>\n",
       "</div>"
      ],
      "text/plain": [
       "   Id                                       Product Name Brand Name   Price  \\\n",
       "0   1  \"CLEAR CLEAN ESN\" Sprint EPIC 4G Galaxy SPH-D7...    Samsung  199.99   \n",
       "1   2  \"CLEAR CLEAN ESN\" Sprint EPIC 4G Galaxy SPH-D7...    Samsung  199.99   \n",
       "2   3  \"CLEAR CLEAN ESN\" Sprint EPIC 4G Galaxy SPH-D7...    Samsung  199.99   \n",
       "3   4  \"CLEAR CLEAN ESN\" Sprint EPIC 4G Galaxy SPH-D7...    Samsung  199.99   \n",
       "4   5  \"CLEAR CLEAN ESN\" Sprint EPIC 4G Galaxy SPH-D7...    Samsung  199.99   \n",
       "\n",
       "                                             Reviews  Rating  \n",
       "0  I feel so LUCKY to have found this used (phone...       5  \n",
       "1  nice phone, nice up grade from my pantach revu...       4  \n",
       "2                                       Very pleased       5  \n",
       "3  It works good but it goes slow sometimes but i...       4  \n",
       "4  Great phone to replace my lost phone. The only...       4  "
      ]
     },
     "execution_count": 4,
     "metadata": {},
     "output_type": "execute_result"
    }
   ],
   "source": [
    "train_df.head()"
   ]
  },
  {
   "cell_type": "code",
   "execution_count": 5,
   "metadata": {},
   "outputs": [
    {
     "data": {
      "text/html": [
       "<div>\n",
       "<style scoped>\n",
       "    .dataframe tbody tr th:only-of-type {\n",
       "        vertical-align: middle;\n",
       "    }\n",
       "\n",
       "    .dataframe tbody tr th {\n",
       "        vertical-align: top;\n",
       "    }\n",
       "\n",
       "    .dataframe thead th {\n",
       "        text-align: right;\n",
       "    }\n",
       "</style>\n",
       "<table border=\"1\" class=\"dataframe\">\n",
       "  <thead>\n",
       "    <tr style=\"text-align: right;\">\n",
       "      <th></th>\n",
       "      <th>Id</th>\n",
       "      <th>Product Name</th>\n",
       "      <th>Brand Name</th>\n",
       "      <th>Price</th>\n",
       "      <th>Reviews</th>\n",
       "    </tr>\n",
       "  </thead>\n",
       "  <tbody>\n",
       "    <tr>\n",
       "      <th>0</th>\n",
       "      <td>202646</td>\n",
       "      <td>Huawei P8 Lite ALE-L23 Factory Unlocked 16GB L...</td>\n",
       "      <td>Huawei</td>\n",
       "      <td>184.9</td>\n",
       "      <td>Excelent</td>\n",
       "    </tr>\n",
       "    <tr>\n",
       "      <th>1</th>\n",
       "      <td>202647</td>\n",
       "      <td>Huawei P8 Lite ALE-L23 Factory Unlocked 16GB L...</td>\n",
       "      <td>Huawei</td>\n",
       "      <td>184.9</td>\n",
       "      <td>Fit perfectly. Excelent.</td>\n",
       "    </tr>\n",
       "    <tr>\n",
       "      <th>2</th>\n",
       "      <td>202648</td>\n",
       "      <td>Huawei P8 Lite ALE-L23 Factory Unlocked 16GB L...</td>\n",
       "      <td>Huawei</td>\n",
       "      <td>184.9</td>\n",
       "      <td>It has a very good relation, price/performance.</td>\n",
       "    </tr>\n",
       "    <tr>\n",
       "      <th>3</th>\n",
       "      <td>202649</td>\n",
       "      <td>Huawei P8 Lite ALE-L23 Factory Unlocked 16GB L...</td>\n",
       "      <td>Huawei</td>\n",
       "      <td>184.9</td>\n",
       "      <td>Like it a lot</td>\n",
       "    </tr>\n",
       "    <tr>\n",
       "      <th>4</th>\n",
       "      <td>202650</td>\n",
       "      <td>Huawei P8 Lite ALE-L23 Factory Unlocked 16GB L...</td>\n",
       "      <td>Huawei</td>\n",
       "      <td>184.9</td>\n",
       "      <td>Dear , i had a problem wich the wifi senial !!...</td>\n",
       "    </tr>\n",
       "  </tbody>\n",
       "</table>\n",
       "</div>"
      ],
      "text/plain": [
       "       Id                                       Product Name Brand Name  \\\n",
       "0  202646  Huawei P8 Lite ALE-L23 Factory Unlocked 16GB L...     Huawei   \n",
       "1  202647  Huawei P8 Lite ALE-L23 Factory Unlocked 16GB L...     Huawei   \n",
       "2  202648  Huawei P8 Lite ALE-L23 Factory Unlocked 16GB L...     Huawei   \n",
       "3  202649  Huawei P8 Lite ALE-L23 Factory Unlocked 16GB L...     Huawei   \n",
       "4  202650  Huawei P8 Lite ALE-L23 Factory Unlocked 16GB L...     Huawei   \n",
       "\n",
       "   Price                                            Reviews  \n",
       "0  184.9                                           Excelent  \n",
       "1  184.9                           Fit perfectly. Excelent.  \n",
       "2  184.9    It has a very good relation, price/performance.  \n",
       "3  184.9                                      Like it a lot  \n",
       "4  184.9  Dear , i had a problem wich the wifi senial !!...  "
      ]
     },
     "execution_count": 5,
     "metadata": {},
     "output_type": "execute_result"
    }
   ],
   "source": [
    "test_df.head()"
   ]
  },
  {
   "cell_type": "markdown",
   "metadata": {},
   "source": [
    "Ze zbioru danych należy wyodrębnić kolumny niezbędne do przeprowadzenia klasyfikacji, czyli te z treścią recenzji oraz oceną. W tym celu utworzono odpowiednio zmienne __review_train__, __raiting_train__ oraz __review_test__"
   ]
  },
  {
   "cell_type": "code",
   "execution_count": 128,
   "metadata": {},
   "outputs": [],
   "source": [
    "review_train= train_df['Reviews'].astype('str')  \n",
    "raiting_train = train_df['Rating']\n",
    "review_test = test_df['Reviews'].astype('str')  "
   ]
  },
  {
   "cell_type": "markdown",
   "metadata": {},
   "source": [
    "### Przetwarzanie tekstu\n",
    "Przed przystąpieniem do klasyfikacji, każdą recenzję należy najpierw przekonwertować na macierz. Jej wartości będą reprezentować liczbę wystąpień danego słowa w każdej z recenzji. Aby tego dokonać zastosowano moduł _CountVectorizer_ z biblioteki _Scikit-learn_. Ze zbioru słów wykluczono te, które zawierają liczby oraz słowa ze zbioru _stopwords_"
   ]
  },
  {
   "cell_type": "code",
   "execution_count": 129,
   "metadata": {},
   "outputs": [],
   "source": [
    "vectorizer = CountVectorizer(analyzer = 'word', stop_words='english',token_pattern=r'\\b[^\\d\\W_]+\\b').fit(review_train, review_test) "
   ]
  },
  {
   "cell_type": "code",
   "execution_count": 130,
   "metadata": {},
   "outputs": [],
   "source": [
    "review_train = vectorizer.transform(review_train) \n",
    "review_test = vectorizer.transform(review_test) "
   ]
  },
  {
   "cell_type": "markdown",
   "metadata": {},
   "source": [
    "### Tworzenie modelu klasyfikacji\n",
    "Biblioteka sci-kit umożliwia proste tworzenie modelu klasyfikacji. W tym przypadku użyty został Wielomianowy naiwny klasyfikator Bayes'a. Jest to jedna z najbardziej efektywnych metod uczenia maszynowego. Służy do klasyfikacji dokumentów tekstowych, ma szerokie zastosowanie w filtrowaniu spamu i w analizie opinii (w analizach statystycznych dla mediów społecznościowych, by zidentyfikować pozytywne i negatywne odczucia konsumentów). Wydaje się więc być idealnym modelem klasyfikacji dla rozpatrywanego problemu."
   ]
  },
  {
   "cell_type": "code",
   "execution_count": 131,
   "metadata": {},
   "outputs": [
    {
     "data": {
      "text/plain": [
       "MultinomialNB(alpha=1.0, class_prior=None, fit_prior=True)"
      ]
     },
     "execution_count": 131,
     "metadata": {},
     "output_type": "execute_result"
    }
   ],
   "source": [
    "nb = MultinomialNB()\n",
    "nb.fit(review_train, raiting_train)\n",
    "preds = nb.predict(review_test)"
   ]
  },
  {
   "cell_type": "markdown",
   "metadata": {},
   "source": [
    "### Zapis wyniku do pliku _csv._\n",
    "Wynik predykcji został zapisany do pliku za pomocą biblioteki csv, zgodnie z zadanym formatem."
   ]
  },
  {
   "cell_type": "code",
   "execution_count": 159,
   "metadata": {},
   "outputs": [],
   "source": [
    "ids = test_df['Id'].values\n",
    "predictions_file = open(\"predict.csv\", \"w\", newline=\"\")\n",
    "open_file_object = csv.writer(predictions_file)\n",
    "open_file_object.writerow([\"Id\", \"Rating\"])\n",
    "result = zip(test_df['Id'], preds)\n",
    "for el1, el2 in result:\n",
    "    open_file_object.writerow([el1, el2])\n",
    "predictions_file.close()"
   ]
  }
 ],
 "metadata": {
  "kernelspec": {
   "display_name": "Python 3",
   "language": "python",
   "name": "python3"
  },
  "language_info": {
   "codemirror_mode": {
    "name": "ipython",
    "version": 3
   },
   "file_extension": ".py",
   "mimetype": "text/x-python",
   "name": "python",
   "nbconvert_exporter": "python",
   "pygments_lexer": "ipython3",
   "version": "3.7.1"
  }
 },
 "nbformat": 4,
 "nbformat_minor": 1
}
